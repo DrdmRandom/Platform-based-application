{
  "nbformat": 4,
  "nbformat_minor": 0,
  "metadata": {
    "colab": {
      "provenance": [],
      "include_colab_link": true
    },
    "kernelspec": {
      "name": "python3",
      "display_name": "Python 3"
    },
    "language_info": {
      "name": "python"
    }
  },
  "cells": [
    {
      "cell_type": "markdown",
      "metadata": {
        "id": "view-in-github",
        "colab_type": "text"
      },
      "source": [
        "<a href=\"https://colab.research.google.com/github/DrdmRandom/Platform-based-application/blob/main/Tubes_Machine_Learning_Advance.ipynb\" target=\"_parent\"><img src=\"https://colab.research.google.com/assets/colab-badge.svg\" alt=\"Open In Colab\"/></a>"
      ]
    },
    {
      "cell_type": "markdown",
      "source": [
        "# **Code Tubes Machine Learning**\n",
        "Auto machine learning exploration\n",
        "\n",
        "- Dinanti Aldila (1301213253)\n",
        "- Dawwi Raissa Damarjati Muljana (130123517)\n",
        "- XXXX (13012….)\n",
        "- XXXX (13012….)"
      ],
      "metadata": {
        "id": "gfoniB-YE52v"
      }
    },
    {
      "cell_type": "code",
      "source": [],
      "metadata": {
        "id": "DLiYkkTQE5Wz"
      },
      "execution_count": null,
      "outputs": []
    }
  ]
}